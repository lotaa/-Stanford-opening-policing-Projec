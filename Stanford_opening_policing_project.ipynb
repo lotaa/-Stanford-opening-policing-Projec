{
 "cells": [
  {
   "cell_type": "markdown",
   "id": "d3749e81",
   "metadata": {},
   "source": [
    "## Stanford Opening Policing Project\n",
    "### The goal: I'll be analyzing a dataset of traffic stops in Rhode Island that was collected by the Stanford Open Policing Project."
   ]
  },
  {
   "cell_type": "code",
   "execution_count": null,
   "id": "864729c5",
   "metadata": {},
   "outputs": [],
   "source": [
    "# Import the pandas library as pd\n",
    "import pandas as pd\n",
    "\n",
    "# Read 'police.csv' into a DataFrame named ri\n",
    "ri = pd.read_csv('police.csv')\n",
    "\n",
    "# Examine the head of the DataFrame\n",
    "print(ri.head)\n",
    "\n",
    "# Count the number of missing values in each column\n",
    "print(ri.isnull().sum())"
   ]
  },
  {
   "cell_type": "markdown",
   "id": "4381fe55",
   "metadata": {},
   "source": [
    "*It looks like most of the columns have at least some missing values.*\n",
    "#### Dropping columns\n",
    "a DataFrame will contain columns that are not useful to your analysis. Such columns should be dropped from the DataFrame, to make it easier for you to focus on the remaining columns.\n",
    "\n",
    "I'll drop the 'county_name' column because it only contains missing values, and I'll drop the state column because all of the traffic stops took place in one state (Rhode Island). Thus, these columns can be dropped because they contain no useful information. T"
   ]
  },
  {
   "cell_type": "code",
   "execution_count": null,
   "id": "be0dd8d1",
   "metadata": {},
   "outputs": [],
   "source": [
    "# Examine the shape of the DataFrame\n",
    "print(ri.shape)\n",
    "\n",
    "# Drop the 'county_name' and 'state' columns\n",
    "ri.drop(['county_name', 'state'], axis='columns', inplace=True)\n",
    "\n",
    "# Examine the shape of the DataFrame (again)\n",
    "print(ri.shape)"
   ]
  },
  {
   "cell_type": "markdown",
   "id": "e2e7b3f9",
   "metadata": {},
   "source": [
    "*the 'driver_gender' column will be critical to many of your analyses. Because only a small fraction of rows are missing 'driver_gender',\n",
    "I'll drop those rows from the dataset.*"
   ]
  },
  {
   "cell_type": "code",
   "execution_count": null,
   "id": "41dcc088",
   "metadata": {},
   "outputs": [],
   "source": [
    "# Count the number of missing values in each column\n",
    "print(ri.isnull().sum())\n",
    "\n",
    "# Drop all rows that are missing 'driver_gender'\n",
    "ri.dropna(subset=['driver_gender'], inplace=True)\n",
    "\n",
    "# Count the number of missing values in each column (again)\n",
    "print(ri.isnull().sum())\n",
    "\n",
    "# Examine the shape of the DataFrame\n",
    "print(ri.shape)"
   ]
  },
  {
   "cell_type": "markdown",
   "id": "d117a327",
   "metadata": {},
   "source": [
    "I dropped around 5,000 rows, which is a small fraction of the dataset, and now only one column remains with any missing values."
   ]
  },
  {
   "cell_type": "code",
   "execution_count": null,
   "id": "b734ac53",
   "metadata": {},
   "outputs": [],
   "source": [
    "ri.dtype"
   ]
  },
  {
   "cell_type": "markdown",
   "id": "f01f42fb",
   "metadata": {},
   "source": [
    "1.  I saw in the previous cell that the is_arrested column currently has the object data type. In this exercise,\n",
    "2.  I'll change the data type to bool, which is the most suitable type for a column containing True and False values."
   ]
  },
  {
   "cell_type": "code",
   "execution_count": null,
   "id": "14bc09b9",
   "metadata": {},
   "outputs": [],
   "source": [
    "# Examine the head of the 'is_arrested' column\n",
    "print(ri.is_arrested.head())\n",
    "\n",
    "# Change the data type of 'is_arrested' to 'bool'\n",
    "ri['is_arrested'] = ri.is_arrested.astype('bool')\n",
    "\n",
    "# Check the data type of 'is_arrested' \n",
    "print(ri.is_arrested.dtype)"
   ]
  },
  {
   "cell_type": "markdown",
   "id": "643a27e2",
   "metadata": {},
   "source": [
    "##### Currently, the date and time of each traffic stop are stored in separate object columns: stop_date and stop_time.\n",
    "I'll combine these two columns into a single column, and then convert it to datetime format. This will enable convenient date-based attributes that we'll use later in the course."
   ]
  },
  {
   "cell_type": "code",
   "execution_count": null,
   "id": "fcf68018",
   "metadata": {},
   "outputs": [],
   "source": [
    "# Concatenate 'stop_date' and 'stop_time' (separated by a space)\n",
    "combined = ri.stop_date.str.cat(ri.stop_time, sep=\" \")\n",
    "\n",
    "# Convert 'combined' to datetime format\n",
    "ri['stop_datetime'] = pd.to_datetime(combined)\n",
    "\n",
    "# Examine the data types of the DataFrame\n",
    "print(ri.dtypes)"
   ]
  },
  {
   "cell_type": "markdown",
   "id": "1fda1cbf",
   "metadata": {},
   "source": [
    "###### The last step that I'll set the stop_datetime column as the DataFrame's index. By replacing the default index with a DatetimeIndex, you'll make it easier to analyze the dataset by date and time"
   ]
  },
  {
   "cell_type": "code",
   "execution_count": null,
   "id": "c2aacf89",
   "metadata": {},
   "outputs": [],
   "source": [
    "# Set 'stop_datetime' as the index\n",
    "ri.set_index('stop_datetime', inplace=True)\n",
    "\n",
    "# Examine the index\n",
    "print(ri.index)\n",
    "\n",
    "# Examine the columns\n",
    "print(ri.columns)"
   ]
  },
  {
   "cell_type": "markdown",
   "id": "5fa641fe",
   "metadata": {},
   "source": [
    "#### Examining traffic violations"
   ]
  },
  {
   "cell_type": "code",
   "execution_count": null,
   "id": "d277c2fa",
   "metadata": {},
   "outputs": [],
   "source": [
    "# Count the unique values in 'violation'\n",
    "print(ri.violation.value_counts())\n",
    "\n",
    "# Express the counts as proportions\n",
    "print(ri.violation.value_counts()/ri.violation.value_counts().sum())"
   ]
  },
  {
   "cell_type": "markdown",
   "id": "c8191197",
   "metadata": {},
   "source": [
    "**More than half of all violations are for speeding, followed by other moving violations and equipment violations.**\n",
    "\n",
    "\n",
    "\n",
    "### Comparing violations by gender؟"
   ]
  },
  {
   "cell_type": "code",
   "execution_count": null,
   "id": "1fd3380b",
   "metadata": {},
   "outputs": [],
   "source": [
    "# Create a DataFrame of female drivers\n",
    "female = ri[ri.driver_gender == 'F']\n",
    "# Create a DataFrame of male drivers\n",
    "male = ri[ri.driver_gender == 'M']\n",
    "\n",
    "# Compute the violations by female drivers (as proportions)\n",
    "print(female.violation.value_counts(normalize=True))\n",
    "\n",
    "# Compute the violations by male drivers (as proportions)\n",
    "print(male.violation.value_counts(normalize=True))"
   ]
  },
  {
   "cell_type": "markdown",
   "id": "7254fe38",
   "metadata": {},
   "source": [
    "**About two-thirds of female traffic stops are for speeding, whereas stops of males are more balanced among the six categories. This doesn't mean that females speed more often than males, however, since we didn't take into account the number of stops or drivers.**"
   ]
  },
  {
   "cell_type": "markdown",
   "id": "a3e2b57c",
   "metadata": {},
   "source": [
    "### Comparing speeding outcomes by gender?"
   ]
  },
  {
   "cell_type": "code",
   "execution_count": null,
   "id": "ec23adb1",
   "metadata": {},
   "outputs": [],
   "source": [
    "# Create a DataFrame of female drivers stopped for speeding\n",
    "female_and_speeding = ri[(ri.driver_gender == 'F')& (ri.violation == 'Speeding')]\n",
    "\n",
    "# Create a DataFrame of male drivers stopped for speeding\n",
    "male_and_speeding = ri[(ri.driver_gender == 'M') & (ri.violation == 'Speeding')]\n",
    "\n",
    "# Compute the stop outcomes for female drivers (as proportions)\n",
    "print(female_and_speeding.stop_outcome.value_counts(normalize=True))\n",
    "\n",
    "# Compute the stop outcomes for male drivers (as proportions)\n",
    "print(male_and_speeding.stop_outcome.value_counts(normalize=True))"
   ]
  },
  {
   "cell_type": "markdown",
   "id": "e7b420c3",
   "metadata": {},
   "source": [
    "**The numbers are similar for males and females: about 95% of stops for speeding result in a ticket. Thus, the data fails to show that gender has an impact on who gets a ticket for speeding.**"
   ]
  },
  {
   "cell_type": "markdown",
   "id": "1f206411",
   "metadata": {},
   "source": [
    "### Calculating the search rate\n",
    "**During a traffic stop, the police officer sometimes conducts a search of the vehicle.**"
   ]
  },
  {
   "cell_type": "code",
   "execution_count": null,
   "id": "40a2fc50",
   "metadata": {},
   "outputs": [],
   "source": [
    "# Check the data type of 'search_conducted'\n",
    "print(ri.search_conducted.dtype)\n",
    "\n",
    "# Calculate the search rate by counting the values\n",
    "print(ri.search_conducted.value_counts(normalize=True))\n",
    "\n",
    "# Calculate the search rate by taking the mean\n",
    "print(ri.search_conducted.mean())"
   ]
  },
  {
   "cell_type": "markdown",
   "id": "1affa685",
   "metadata": {},
   "source": [
    " **It looks like the search rate is about 3.8%. Next, you'll examine whether the search rate varies by driver gender.**"
   ]
  },
  {
   "cell_type": "markdown",
   "id": "bb989722",
   "metadata": {},
   "source": [
    "### Comparing search rates by gender\n",
    "\n",
    "**I'll compare the rates at which female and male drivers are searched during a traffic stop.**"
   ]
  },
  {
   "cell_type": "code",
   "execution_count": null,
   "id": "1101914c",
   "metadata": {},
   "outputs": [],
   "source": [
    "# Calculate the search rate for both groups simultaneously\n",
    "print(ri.groupby('driver_gender').search_conducted.mean())"
   ]
  },
  {
   "cell_type": "markdown",
   "id": "9cd9ff35",
   "metadata": {},
   "source": [
    "**Wow! Male drivers are searched more than twice as often as female drivers. Why might this be?\n",
    "Even though the search rate for males is much higher than for females, it's possible that the difference is mostly due to a second factor.**\n",
    "1. I might hypothesize that the search rate varies by violation type, and the difference in search rate between males and females is because they tend to commit different violations.\n",
    "\n",
    "2. I can test this hypothesis by examining the search rate for each combination of gender and violation. If the hypothesis was true, you would find that males and females are searched at about the same rate for each violation"
   ]
  },
  {
   "cell_type": "code",
   "execution_count": null,
   "id": "988fd152",
   "metadata": {},
   "outputs": [],
   "source": [
    "# Calculate the search rate for each combination of gender and violation\n",
    "print(ri.groupby(['driver_gender', 'violation']).search_conducted.mean())\n",
    "\n",
    "# Reverse the ordering to group by violation before gender\n",
    "print(ri.groupby(['violation','driver_gender']).search_conducted.mean())"
   ]
  },
  {
   "cell_type": "markdown",
   "id": "8bc6adee",
   "metadata": {},
   "source": [
    "**For all types of violations, the search rate is higher for males than for females, disproving our hypothesis.**"
   ]
  },
  {
   "cell_type": "markdown",
   "id": "4121baae",
   "metadata": {},
   "source": [
    "### Counting protective frisks\n",
    "\n",
    "**During a vehicle search, the police officer may pat down the driver to check if they have a weapon. This is known as a \"protective frisk.**\n",
    "\n",
    "1. Count the search_type values in the ri DataFrame to see how many times \"Protective Frisk\" was the only search type.\n",
    "2. Create a new column, frisk, that is True if search_type contains the string \"Protective Frisk\" and False otherwise.\n",
    "3. Check the data type of frisk to confirm that it's a Boolean Series.\n",
    "    Take the sum of frisk to count the total number of frisks."
   ]
  },
  {
   "cell_type": "code",
   "execution_count": null,
   "id": "41c3b2ce",
   "metadata": {},
   "outputs": [],
   "source": [
    "# Count the 'search_type' values\n",
    "print(ri.search_type.value_counts())\n",
    "\n",
    "# Check if 'search_type' contains the string 'Protective Frisk'\n",
    "ri['frisk'] = ri.search_type.str.contains('Protective Frisk', na=False)\n",
    "\n",
    "# Check the data type of 'frisk'\n",
    "print(ri.frisk.dtype)\n",
    "\n",
    "# Take the sum of 'frisk'\n",
    "print(ri.frisk.sum())"
   ]
  },
  {
   "cell_type": "markdown",
   "id": "b78d2bdb",
   "metadata": {},
   "source": [
    " **It looks like there were 303 drivers who were frisked.**\n",
    " \n",
    "### Comparing frisk rates by gender\n",
    "\n",
    "* I'll compare the rates at which female and male drivers are frisked during a search. Are males frisked more often than females, perhaps because police officers consider them to be higher risk?\n",
    "\n"
   ]
  },
  {
   "cell_type": "code",
   "execution_count": null,
   "id": "3c2560ee",
   "metadata": {},
   "outputs": [],
   "source": [
    "# Create a DataFrame of stops in which a search was conducted\n",
    "searched = ri[ri.search_conducted == True]\n",
    "\n",
    "# Calculate the overall frisk rate by taking the mean of 'frisk'\n",
    "print(searched.frisk.mean())\n",
    "\n",
    "# Calculate the frisk rate for each gender\n",
    "print(searched.groupby('driver_gender').frisk.mean())"
   ]
  },
  {
   "cell_type": "markdown",
   "id": "a3b73281",
   "metadata": {},
   "source": [
    "**The frisk rate is higher for males than for females, though we can't conclude that this difference is caused by the driver's gender.**\n",
    "\n",
    "### Calculating the hourly arrest rate"
   ]
  },
  {
   "cell_type": "code",
   "execution_count": null,
   "id": "a917285e",
   "metadata": {},
   "outputs": [],
   "source": [
    "# Calculate the overall arrest rate\n",
    "print(ri.is_arrested.mean())\n",
    "\n",
    "# Calculate the hourly arrest rate\n",
    "print(ri.groupby(ri.index.hour).is_arrested.mean())\n",
    "\n",
    "# Save the hourly arrest rate\n",
    "hourly_arrest_rate = ri.groupby(ri.index.hour).is_arrested.mean()"
   ]
  },
  {
   "cell_type": "markdown",
   "id": "5279a92b",
   "metadata": {},
   "source": [
    "**Next you'll plot the data so that you can visually examine the arrest rate trends.**\n",
    "\n",
    "\n",
    "1. Plotting the hourly arrest rate"
   ]
  },
  {
   "cell_type": "code",
   "execution_count": null,
   "id": "aaf59679",
   "metadata": {},
   "outputs": [],
   "source": [
    "# Import matplotlib.pyplot as plt\n",
    "import matplotlib.pyplot as plt\n",
    "\n",
    "# Create a line plot of 'hourly_arrest_rate'\n",
    "hourly_arrest_rate.plot()\n",
    "\n",
    "# Add the xlabel, ylabel, and title\n",
    "plt.xlabel('Hour')\n",
    "plt.ylabel('Arrest Rate')\n",
    "plt.title('Arrest Rate by Time of Day')\n",
    "\n",
    "# Display the plot\n",
    "plt.show()"
   ]
  },
  {
   "cell_type": "markdown",
   "id": "9c8732e0",
   "metadata": {},
   "source": [
    " **The arrest rate has a significant spike overnight, and then dips in the early morning hours.**\n",
    " \n",
    " \n",
    "### Plotting drug-related stops\n",
    "\n",
    "**In a small portion of traffic stops, drugs are found in the vehicle during a search.**"
   ]
  },
  {
   "cell_type": "code",
   "execution_count": null,
   "id": "e5ae0c3e",
   "metadata": {},
   "outputs": [],
   "source": [
    "# Calculate the annual rate of drug-related stops\n",
    "print(ri.drugs_related_stop.resample('A').mean())\n",
    "\n",
    "# Save the annual rate of drug-related stops\n",
    "annual_drug_rate = ri.drugs_related_stop.resample('A').mean()\n",
    "\n",
    "# Create a line plot of 'annual_drug_rate'\n",
    "annual_drug_rate.plot()\n",
    "\n",
    "# Display the plot\n",
    "plt.show()"
   ]
  },
  {
   "cell_type": "markdown",
   "id": "29fc3459",
   "metadata": {},
   "source": [
    "**The rate of drug-related stops nearly doubled over the course of 10 years.**\n",
    "\n",
    "### Comparing drug and search rates\n",
    "\n",
    "* the rate of drug-related stops increased significantly between 2005 and 2015. You might hypothesize that the rate of vehicle searches was also increasing, which would have led to an increase in drug-related stops even if more drivers were not carrying drugs.\n",
    "\n",
    "* You can test this hypothesis by calculating the annual search rate, and then plotting it against the annual drug rate. If the hypothesis is true, then you'll see both rates increasing over time.\n",
    "\n"
   ]
  },
  {
   "cell_type": "code",
   "execution_count": null,
   "id": "e493907a",
   "metadata": {},
   "outputs": [],
   "source": [
    " # Calculate and save the annual search rate\n",
    "annual_search_rate = ri.search_conducted.resample('A').mean()\n",
    "\n",
    "# Concatenate 'annual_drug_rate' and 'annual_search_rate'\n",
    "annual = pd.concat([annual_drug_rate,annual_search_rate], axis='columns')\n",
    "\n",
    "# Create subplots from 'annual'\n",
    "annual.plot(subplots=True)\n",
    "\n",
    "# Display the subplots\n",
    "plt.show()"
   ]
  },
  {
   "cell_type": "markdown",
   "id": "8780ee28",
   "metadata": {},
   "source": [
    " **The rate of drug-related stops increased even though the search rate decreased, disproving our hypothesis.**\n",
    " \n",
    " ### Tallying violations by district\n",
    " * . How do the zones compare in terms of what violations are caught by police?"
   ]
  },
  {
   "cell_type": "code",
   "execution_count": null,
   "id": "e1691fc4",
   "metadata": {},
   "outputs": [],
   "source": [
    "# Create a frequency table of districts and violations\n",
    "print(pd.crosstab(ri.district, ri.violation))\n",
    "\n",
    "# Save the frequency table as 'all_zones'\n",
    "all_zones = pd.crosstab(ri.district, ri.violation)\n",
    "\n",
    "# Select rows 'Zone K1' through 'Zone K3'\n",
    "print(all_zones.loc['Zone K1': 'Zone K3'])\n",
    "\n",
    "# Save the smaller table as 'k_zones'\n",
    "k_zones = all_zones.loc['Zone K1': 'Zone K3']"
   ]
  },
  {
   "cell_type": "markdown",
   "id": "9f2ca06c",
   "metadata": {},
   "source": [
    "**Now that I've created a frequency table focused on the \"K\" zones, I'll visualize the data to help you compare what violations are being caught in each zone.**"
   ]
  },
  {
   "cell_type": "code",
   "execution_count": null,
   "id": "74ddb5bf",
   "metadata": {},
   "outputs": [],
   "source": [
    "# Create a bar plot of 'k_zones'\n",
    "k_zones.plot(kind='bar')\n",
    "\n",
    "# Display the plot\n",
    "plt.show()"
   ]
  },
  {
   "cell_type": "markdown",
   "id": "ed05cfbc",
   "metadata": {},
   "source": [
    "**The vast majority of traffic stops in Zone K1 are for speeding, and Zones K2 and K3 are remarkably similar to one another in terms of violations.**\n",
    "\n",
    "### Converting stop durations to numbers\n",
    "\n",
    "* the stop_duration column tells you approximately how long the driver was detained by the officer. "
   ]
  },
  {
   "cell_type": "code",
   "execution_count": null,
   "id": "59e2b3ce",
   "metadata": {},
   "outputs": [],
   "source": [
    "# Print the unique values in 'stop_duration'\n",
    "print(ri.stop_duration.unique())\n",
    "\n",
    "# Create a dictionary that maps strings to integers\n",
    "mapping = {'0-15 Min':8, '16-30 Min':23, '30+ Min':45}\n",
    "\n",
    "# Convert the 'stop_duration' strings to integers using the 'mapping'\n",
    "ri['stop_minutes'] = ri.stop_duration.map(mapping)\n",
    "\n",
    "# Print the unique values in 'stop_minutes'\n",
    "print(ri.stop_minutes.unique())"
   ]
  },
  {
   "cell_type": "markdown",
   "id": "a3017167",
   "metadata": {},
   "source": [
    "**Next I'll analyze the stop length for each type of violation.**"
   ]
  },
  {
   "cell_type": "code",
   "execution_count": null,
   "id": "0fd12195",
   "metadata": {},
   "outputs": [],
   "source": [
    "# Calculate the mean 'stop_minutes' for each value in 'violation_raw'\n",
    "print(ri.groupby('violation_raw').stop_minutes.mean())\n",
    "\n",
    "# Save the resulting Series as 'stop_length'\n",
    "stop_length = ri.groupby('violation_raw').stop_minutes.mean()\n",
    "\n",
    "# Sort 'stop_length' by its values and create a horizontal bar plot\n",
    "stop_length.sort_values().plot(kind='barh')\n",
    "\n",
    "# Display the plot\n",
    "plt.show()"
   ]
  }
 ],
 "metadata": {
  "kernelspec": {
   "display_name": "Python 3",
   "language": "python",
   "name": "python3"
  },
  "language_info": {
   "codemirror_mode": {
    "name": "ipython",
    "version": 3
   },
   "file_extension": ".py",
   "mimetype": "text/x-python",
   "name": "python",
   "nbconvert_exporter": "python",
   "pygments_lexer": "ipython3",
   "version": "3.8.8"
  }
 },
 "nbformat": 4,
 "nbformat_minor": 5
}
